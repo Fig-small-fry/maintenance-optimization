{
 "cells": [
  {
   "cell_type": "code",
   "execution_count": null,
   "metadata": {},
   "outputs": [],
   "source": [
    "import numpy as np\n",
    "import pandas as pd\n",
    "from docplex.mp.model import Model\n",
    "import matplotlib.pyplot as plt"
   ]
  },
  {
   "cell_type": "code",
   "execution_count": null,
   "metadata": {},
   "outputs": [],
   "source": [
    "rnd=np.random\n",
    "rnd.seed(0)"
   ]
  },
  {
   "cell_type": "code",
   "execution_count": null,
   "metadata": {},
   "outputs": [],
   "source": [
    "data = pd.read_excel(r'C:\\Users\\Documents\\project 3\\experiment\\LRFD.xlsx')\n",
    "df = pd.DataFrame(data)"
   ]
  },
  {
   "cell_type": "code",
   "execution_count": null,
   "metadata": {},
   "outputs": [],
   "source": [
    "nop=3\n",
    "nol=3\n",
    "nou=5\n",
    "nott=6\n",
    "R=[r for r in range (1,nop+1)]\n",
    "J=[j for j in range (1,nol+1)]\n",
    "I=[i for i in range (1,nou+1)]\n",
    "T=[t for t in range (1,nott+1)]\n",
    "nc=5000\n",
    "mc=10000\n",
    "ml=10000\n",
    "bigM=10000000000"
   ]
  },
  {
   "cell_type": "code",
   "execution_count": null,
   "metadata": {},
   "outputs": [],
   "source": [
    "RIT=[(r,i,t) for r in R for i in I for t in T]\n",
    "#d={(r,i,t): 1 for r,i,t in RIT}\n",
    "u={(r): 1000 for r in R}\n",
    "k={(r):50 for r in R}\n",
    "h={(r):20 for r in R}\n",
    "pi={(r):300 for r in R}\n",
    "l={(r):1 for r in R}\n",
    "beta={(r):1 for r in R}\n",
    "e={(j):10 for j in J}\n",
    "v={(j):100 for j in J}\n",
    "JK = [(j,k) for j in J for k in J if j != k]\n",
    "lat = {(j, k): 80 for j, k in JK}\n",
    "opr= {(j, k): 160 for j, k in JK}\n",
    "IJ=[(i, j) for i in I for j in J ]\n",
    "JKT=[(j,k,t) for j in J for k in J for t in T if j!=k ]\n",
    "RJ=[(r,j) for r in R for j in J]\n",
    "RT=[(r,t) for r in R for t in T]\n",
    "RJT=[(r,j,t) for r in R for j in J for t in T]\n",
    "RJKT=[(r,j,k,t) for r in R for j in J for k in J for t in T if j!=k]\n",
    "JT=[(j,t) for j in J for t in T]"
   ]
  },
  {
   "cell_type": "code",
   "execution_count": null,
   "metadata": {},
   "outputs": [],
   "source": [
    "excel= pd.ExcelFile(r'C:\\Users\\Documents\\project 3\\experiment\\LRFD.xlsx')"
   ]
  },
  {
   "cell_type": "code",
   "execution_count": null,
   "metadata": {},
   "outputs": [],
   "source": [
    "drit = pd.read_excel(excel,'drit')\n",
    "demand_1= {k: row['drit'] for k, row in drit.iterrows()}\n",
    "d={RIT[k]:demand_1[k] for k in demand_1}\n",
    "fij = pd.read_excel(excel,'fij')\n",
    "fij_1={k:row['fij'] for k, row in fij.iterrows()}\n",
    "f={IJ[k]:fij_1[k] for k in fij_1}\n",
    "print(f)"
   ]
  },
  {
   "cell_type": "code",
   "execution_count": null,
   "metadata": {},
   "outputs": [],
   "source": [
    "mdl = Model('LRFOPT')"
   ]
  },
  {
   "cell_type": "code",
   "execution_count": null,
   "metadata": {},
   "outputs": [],
   "source": [
    "X=mdl.binary_var_dict(IJ, name='X')\n",
    "Y= mdl.continuous_var_dict(JKT, name='Y')\n",
    "QC= mdl.continuous_var_dict(R, name='QC')\n",
    "QL= mdl.continuous_var_dict(RJ, name='QL')\n",
    "IC= mdl.continuous_var_dict(RT, name='IC')\n",
    "BL= mdl.continuous_var_dict(RJT, name='BL')\n",
    "BC= mdl.continuous_var_dict(RT, name='BC')\n",
    "IL= mdl.continuous_var_dict(RJT, name='IL')\n",
    "ZCL= mdl.continuous_var_dict(RJT, name='ZCL')\n",
    "ZLAT= mdl.continuous_var_dict(RJKT, name='ZLAT')\n",
    "RR= mdl.continuous_var_dict(RJT, name='RR')\n",
    "QREP= mdl.continuous_var_dict(RT, name='QREP')\n",
    "DD= mdl.continuous_var_dict(RJT, name='DD')\n",
    "U= mdl.continuous_var_dict(JT, name='U')"
   ]
  },
  {
   "cell_type": "code",
   "execution_count": null,
   "metadata": {},
   "outputs": [],
   "source": [
    "print(R)"
   ]
  },
  {
   "cell_type": "code",
   "execution_count": null,
   "metadata": {},
   "outputs": [],
   "source": [
    "mdl.minimize(mdl.sum(f[i, j]*X[i, j] for i, j in IJ) \n",
    "             +mdl.sum(k[r]*QREP[r,t] for r,t in RT) \n",
    "             +mdl.sum(h[r]*IC[r,t] for r,t in RT) \n",
    "             +mdl.sum(h[r]*IL[r,j,t] for r,j,t in RJT) \n",
    "             +mdl.sum(u[r]*QL[r,j] for r,j in RJ) \n",
    "             +mdl.sum(u[r]*QC[r] for r in R) \n",
    "             +mdl.sum(v[j]*ZCL[r,j,t] for r,j,t in RJT) \n",
    "             +mdl.sum(lat[j,k]*ZLAT[r,j,k,t] for r,j,k,t in RJKT) \n",
    "             +mdl.sum(pi[r]*(BC[r,t]+BL[r,j,t]) for r,j,t in RJT) \n",
    "             +mdl.sum(opr[j,k]*Y[j,k,t] for j,k,t in JKT))\n",
    "\n",
    "#constraint2\n",
    "mdl.add_constraints(mdl.sum(u[r]*QC[r] for r in R) <= mc for r in R) \n",
    "#constraint3\n",
    "mdl.add_constraints(mdl.sum(u[r]*QL[(r,j)] for r in R) <=ml for j in J) \n",
    "#constraint4\n",
    "mdl.add_constraints(mdl.sum(X[(i,j)] for j in J) ==1 for i in I) \n",
    "#constraint5\n",
    "mdl.add_constraints(mdl.sum(X[(i,j)] for i in I) >=1 for j in J)\n",
    "#constraint6\n",
    "mdl.add_constraints(mdl.sum(d[(r,i,t)]*3*X[(i,j)] for i in I) ==DD[(r,j,t)] for r,j,t in RJT) \n",
    "#constraint7\n",
    "mdl.add_constraints(RR[(r,j,t)]+BL[(r,j,t)]==DD[(r,j,t)] for r,j,t in RJT if t==1)\n",
    "mdl.add_constraints(RR[(r,j,t)]+BL[(r,j,t)]-BL[(r,j,t-1)]==DD[(r,j,t)] for r,j,t in RJT if t!=1)\n",
    "#constraint8,9\n",
    "mdl.add_constraints(QL[(r,j)]+ZCL[(r,j,t)]==RR[(r,j,t)]+IL[(r,j,t)] for r,j,t in RJT if t==1)\n",
    "mdl.add_constraints(mdl.sum(ZLAT[(r,k,j,t)] for k in J if k!=j)+ZCL[(r,j,t)]+IL[(r,j,t-1)]==mdl.sum(ZLAT[(r,j,k,t)] for k in J if k!=j)+RR[(r,j,t)]+IL[(r,j,t)] for r,j,t in RJT if t!=1)\n",
    "#constraint10\n",
    "mdl.add_constraints(IL[(r,j,t)]<=QL[(r,j)] for r,j,t in RJT)\n",
    "#constraint11\n",
    "mdl.add_constraints(QC[(r)]==mdl.sum(ZCL[(r,j,t)] for j in J)+IC[(r,t)] for r,t in RT if t==1)\n",
    "#constraint12\n",
    "mdl.add_constraints(QREP[(r,(t-1))]+IC[(r,t-1)]+BC[(r,t)]-BC[(r,t-1)]==mdl.sum(ZCL[(r,j,t)] for j in J)+IC[(r,t)] for r,t in RT if t!=1)\n",
    "#constraint13\n",
    "mdl.add_constraints(IC[(r,t)]<=QC[(r)] for r,t in RT)\n",
    "\n",
    "solution = mdl.solve(log_output=True)"
   ]
  },
  {
   "cell_type": "code",
   "execution_count": null,
   "metadata": {},
   "outputs": [],
   "source": [
    "print(solution)"
   ]
  },
  {
   "cell_type": "code",
   "execution_count": null,
   "metadata": {},
   "outputs": [],
   "source": [
    "mdl.get_solve_details()"
   ]
  }
 ],
 "metadata": {
  "kernelspec": {
   "display_name": "Python 3",
   "language": "python",
   "name": "python3"
  },
  "language_info": {
   "codemirror_mode": {
    "name": "ipython",
    "version": 3
   },
   "file_extension": ".py",
   "mimetype": "text/x-python",
   "name": "python",
   "nbconvert_exporter": "python",
   "pygments_lexer": "ipython3",
   "version": "3.7.6"
  }
 },
 "nbformat": 4,
 "nbformat_minor": 2
}
